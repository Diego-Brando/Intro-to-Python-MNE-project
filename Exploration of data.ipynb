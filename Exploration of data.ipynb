{
 "cells": [
  {
   "cell_type": "markdown",
   "metadata": {},
   "source": [
    "Импорт Библиотек"
   ]
  },
  {
   "cell_type": "markdown",
   "metadata": {},
   "source": [
    "working version : https://www.kaggle.com/code/daniil19189/exploration-of-data"
   ]
  },
  {
   "cell_type": "code",
   "execution_count": null,
   "metadata": {},
   "outputs": [],
   "source": [
    "import mne\n",
    "import numpy as np\n",
    "import pandas as pd\n",
    "import matplotlib.pyplot as plt\n",
    "import matplotlib\n",
    "from pathlib import Path\n",
    "\n",
    "data_train_path = '/kaggle/input/hms-harmful-brain-activity-classification/train.csv'"
   ]
  },
  {
   "cell_type": "markdown",
   "metadata": {},
   "source": [
    "Импорт данных"
   ]
  },
  {
   "cell_type": "code",
   "execution_count": null,
   "metadata": {},
   "outputs": [],
   "source": [
    "data = pd.read_csv(data_train_path)\n",
    "\n",
    "df = data.copy() #бек лог что бы не перегружать \n",
    "\n",
    "print(df.head())"
   ]
  },
  {
   "cell_type": "markdown",
   "metadata": {},
   "source": [
    "Исходя из описания датасетов максимально возможная качество данных - согласие пятерых экспертов"
   ]
  },
  {
   "cell_type": "code",
   "execution_count": null,
   "metadata": {},
   "outputs": [],
   "source": [
    "counts = df.groupby('eeg_id')['expert_consensus'].nunique() # используем как метрику качества записи\n",
    "\n",
    "eeg_id_with_multiple_consensus_5 = counts[counts > 5].index.tolist()\n",
    "\n",
    "print(eeg_id_with_multiple_consensus_5)\n",
    "\n",
    "eeg_id_with_multiple_consensus_4 = counts[counts > 4].index.tolist()\n",
    "\n",
    "print(eeg_id_with_multiple_consensus_4)\n",
    "\n",
    "eeg_id_with_multiple_consensus_3 = counts[counts > 3].index.tolist()\n",
    "\n",
    "print(eeg_id_with_multiple_consensus_3)"
   ]
  },
  {
   "cell_type": "code",
   "execution_count": null,
   "metadata": {},
   "outputs": [],
   "source": [
    "# грузим нужныq (можем прсматривать любые файлы из категорий с 4 и 3 согласиями) updt! тройки какието криндовые\n",
    "data_eeg_path = '/kaggle/input/hms-harmful-brain-activity-classification/train_eegs/1460778765.parquet'\n",
    "data = pd.read_parquet(data_eeg_path).copy() #бек лог что бы не перегружать "
   ]
  },
  {
   "cell_type": "markdown",
   "metadata": {},
   "source": [
    "Настройки каналов"
   ]
  },
  {
   "cell_type": "code",
   "execution_count": null,
   "metadata": {},
   "outputs": [],
   "source": [
    "data = data.drop(['EKG'], axis=1) # дропаем колонку тк ее нет в монтаже, если не сделать это сейчас то все дропнется\n",
    "ch_names = data.columns.tolist()\n",
    "\n",
    "ch_types = ['eeg']*len(ch_names) \n",
    "\n",
    "info = mne.create_info(ch_names, ch_types=ch_types, sfreq=200)\n",
    "print(info)"
   ]
  },
  {
   "cell_type": "markdown",
   "metadata": {},
   "source": [
    "сырой\n"
   ]
  },
  {
   "cell_type": "code",
   "execution_count": null,
   "metadata": {},
   "outputs": [],
   "source": [
    "data_values = data.values.T\n",
    "raw = mne.io.RawArray(data_values, info)\n",
    "raw = raw.notch_filter(50).filter(0.1, 45)\n",
    "scalings = {'eeg': 300} \n",
    "duration = df_multiple['eeg_label_offset_seconds'].max()+50\n",
    "ten_twenty_montage = mne.channels.make_standard_montage('standard_1020')\n",
    "raw.set_montage(ten_twenty_montage)\n",
    "\n",
    "raw.plot_sensors(show_names=True)\n",
    "plt.tight_layout()\n",
    "\n",
    "# график для простмотра и отчистки данных\n",
    "raw.plot(show_scrollbars=False, show_scalebars=False, duration= duration, scalings=scalings)\n",
    "plt.tight_layout()"
   ]
  },
  {
   "cell_type": "markdown",
   "metadata": {},
   "source": [
    "Эпохи"
   ]
  },
  {
   "cell_type": "code",
   "execution_count": null,
   "metadata": {},
   "outputs": [],
   "source": [
    "Target = {'Seizure':0, 'LPD':1, 'GPD':2, 'LRDA':3, 'GRDA':4, 'Other':5}\n",
    "event_ids = {'Seizure':0, 'LPD':1, 'LRDA':3, 'GRDA':4, 'Other':5}\n",
    "events = df_multiple[['eeg_label_offset_seconds', 'expert_consensus']]\n",
    "events.insert(1, 'New', 0)\n",
    "events.loc[:,'expert_consensus'] = events['expert_consensus'].map(event_ids)\n",
    "events.loc[:,'eeg_label_offset_seconds'] = (events['eeg_label_offset_seconds']+25)*200\n",
    "events = events.values.astype(int)"
   ]
  },
  {
   "cell_type": "code",
   "execution_count": null,
   "metadata": {},
   "outputs": [],
   "source": [
    "events_old = events # для сравнения\n",
    "mne.viz.plot_events(events[:])\n",
    "plt.tight_layout()"
   ]
  },
  {
   "cell_type": "code",
   "execution_count": null,
   "metadata": {},
   "outputs": [],
   "source": [
    "epochs = mne.Epochs(raw, events, event_id = event_ids, tmin=-5, tmax=5, preload=True, baseline=(None, 0))\n",
    "epochs.plot(n_epochs=10, events=True, picks = 'all', show_scrollbars=False, show_scalebars=False, scalings=scalings)\n",
    "plt.tight_layout() #эпохи пересекаются, надо пофиксить"
   ]
  },
  {
   "cell_type": "markdown",
   "metadata": {},
   "source": [
    "фикс эпох"
   ]
  },
  {
   "cell_type": "code",
   "execution_count": null,
   "metadata": {},
   "outputs": [],
   "source": [
    "events = df_multiple[['eeg_label_offset_seconds', 'expert_consensus']]\n",
    "non_overlapping_events = pd.DataFrame(columns=events.columns)\n",
    "\n",
    "list_eeg_label_offset_seconds = list(df_multiple['eeg_label_offset_seconds'])\n",
    "new_list = []\n",
    "current_offset = 0\n",
    "min_distance = 10\n",
    "\n",
    "while current_offset <= max(list_eeg_label_offset_seconds):\n",
    "    new_list.append(current_offset)\n",
    "    next_offset = next((x for x in list_eeg_label_offset_seconds if x >= current_offset + min_distance), None)\n",
    "    if next_offset is None:\n",
    "        break\n",
    "    current_offset = next_offset\n",
    "\n",
    "events = df_multiple[['eeg_label_offset_seconds', 'expert_consensus']]\n",
    "non_overlapping_events = pd.DataFrame(columns=events.columns)\n",
    "\n",
    "mask = events['eeg_label_offset_seconds'].isin(new_list)\n",
    "non_overlapping_events = events[mask]\n",
    "non_overlapping_events.insert(1, 'New', 0)\n",
    "non_overlapping_events.loc[:,'expert_consensus'] = non_overlapping_events['expert_consensus'].map(event_ids)\n",
    "non_overlapping_events.loc[:,'eeg_label_offset_seconds'] = (non_overlapping_events['eeg_label_offset_seconds']+25)*200\n",
    "non_overlapping_events = non_overlapping_events.values.astype(int)"
   ]
  },
  {
   "cell_type": "code",
   "execution_count": null,
   "metadata": {},
   "outputs": [],
   "source": [
    "# старый \n",
    "mne.viz.plot_events(events_old[:])\n",
    "plt.tight_layout()\n",
    "\n",
    "# новый \n",
    "mne.viz.plot_events(non_overlapping_events[:])\n",
    "plt.tight_layout()"
   ]
  },
  {
   "cell_type": "code",
   "execution_count": null,
   "metadata": {},
   "outputs": [],
   "source": [
    "epochs = mne.Epochs(raw, non_overlapping_events, event_id = event_ids, tmin=-5, tmax=5, preload=True, baseline=(None, 0))\n",
    "epochs.plot(n_epochs=10, events=True, picks = 'all', show_scrollbars=False, show_scalebars=False, scalings=scalings)\n",
    "plt.tight_layout()"
   ]
  },
  {
   "cell_type": "markdown",
   "metadata": {},
   "source": [
    "PSD"
   ]
  },
  {
   "cell_type": "code",
   "execution_count": null,
   "metadata": {},
   "outputs": [],
   "source": [
    "epochs['Seizure'].plot_psd(fmin=0.01, fmax=20)\n",
    "plt.tight_layout()"
   ]
  },
  {
   "cell_type": "code",
   "execution_count": null,
   "metadata": {},
   "outputs": [],
   "source": [
    "epochs['LPD'].plot_psd(fmin=0.01, fmax=20)\n",
    "plt.tight_layout()"
   ]
  },
  {
   "cell_type": "code",
   "execution_count": null,
   "metadata": {},
   "outputs": [],
   "source": [
    "epochs['LPD'].plot_psd(fmin=0.01, fmax=20)\n",
    "plt.tight_layout()"
   ]
  },
  {
   "cell_type": "code",
   "execution_count": null,
   "metadata": {},
   "outputs": [],
   "source": [
    "epochs['GRDA'].plot_psd(fmin=0.01, fmax=20)\n",
    "plt.tight_layout()"
   ]
  },
  {
   "cell_type": "code",
   "execution_count": null,
   "metadata": {},
   "outputs": [],
   "source": [
    "epochs['Other'].plot_psd(fmin=0.01, fmax=20)\n",
    "plt.tight_layout()"
   ]
  },
  {
   "cell_type": "markdown",
   "metadata": {},
   "source": [
    "Time frequency analysis"
   ]
  },
  {
   "cell_type": "code",
   "execution_count": null,
   "metadata": {},
   "outputs": [],
   "source": [
    "from mne.time_frequency import tfr_morlet, tfr_multitaper, tfr_stockwell\n",
    "freq = np.arange(0.5, 20, 0.01)\n",
    "n_cycles = freq/2\n",
    "\n",
    "power_seizure = tfr_morlet(epochs['Seizure'][0], freq, n_cycles = n_cycles, return_itc = False)\n",
    "for title in ch_names:\n",
    "    power_seizure.plot(picks=title, title=title)\n",
    "    plt.tight_layout()"
   ]
  },
  {
   "cell_type": "markdown",
   "metadata": {},
   "source": [
    "Evoked"
   ]
  },
  {
   "cell_type": "code",
   "execution_count": null,
   "metadata": {},
   "outputs": [],
   "source": [
    "evoked = epochs.average() \n",
    "evoked"
   ]
  },
  {
   "cell_type": "code",
   "execution_count": null,
   "metadata": {},
   "outputs": [],
   "source": [
    "epochs.event_id"
   ]
  },
  {
   "cell_type": "code",
   "execution_count": null,
   "metadata": {},
   "outputs": [],
   "source": [
    "my_evokeds = {}\n",
    "for condition in epochs.event_id:\n",
    "    my_evokeds[condition] = epochs[condition].average()\n",
    "    \n",
    "my_evokeds"
   ]
  },
  {
   "cell_type": "code",
   "execution_count": null,
   "metadata": {},
   "outputs": [],
   "source": [
    "for condition in ['Seizure', 'LPD', 'LRDA', 'GRDA', 'Other']:\n",
    "    chan, lat, amp = my_evokeds[condition].copy().pick_channels(['Cz']).get_peak(tmin = -2, tmax = 0, mode = 'neg', return_amplitude = True)\n",
    "    print(condition)\n",
    "    print(lat, amp * 1e6)"
   ]
  },
  {
   "cell_type": "code",
   "execution_count": null,
   "metadata": {},
   "outputs": [],
   "source": [
    "for condition in ['Seizure', 'LPD', 'LRDA', 'GRDA', 'Other']:\n",
    "    amp = my_evokeds[condition].copy().pick_channels(['Cz']).crop(tmin = -2, tmax = 0).data.squeeze().mean()\n",
    "   # print(vector.shape)\n",
    "    print(condition)\n",
    "    print(amp * 1e6)"
   ]
  },
  {
   "cell_type": "markdown",
   "metadata": {},
   "source": [
    "ERPs"
   ]
  },
  {
   "cell_type": "code",
   "execution_count": null,
   "metadata": {},
   "outputs": [],
   "source": [
    "mne.viz.plot_compare_evokeds(my_evokeds, picks = ['Cz'], invert_y = True) # как то грязно "
   ]
  },
  {
   "cell_type": "code",
   "execution_count": null,
   "metadata": {},
   "outputs": [],
   "source": [
    "my_evokeds = {condition: evoked.copy().pick_channels(['Cz']) for condition, evoked in my_evokeds.items()}"
   ]
  },
  {
   "cell_type": "code",
   "execution_count": null,
   "metadata": {},
   "outputs": [],
   "source": [
    "my_evokeds['Seizure'].ch_names"
   ]
  },
  {
   "cell_type": "code",
   "execution_count": null,
   "metadata": {},
   "outputs": [],
   "source": [
    "mne.viz.plot_compare_evokeds(my_evokeds['Seizure'], picks = ['Cz'], invert_y = True) "
   ]
  },
  {
   "cell_type": "code",
   "execution_count": null,
   "metadata": {},
   "outputs": [],
   "source": [
    "mne.viz.plot_compare_evokeds(my_evokeds['LPD'], picks = ['Cz'], invert_y = True, colors = ['orange']) "
   ]
  },
  {
   "cell_type": "code",
   "execution_count": null,
   "metadata": {},
   "outputs": [],
   "source": [
    "mne.viz.plot_compare_evokeds(my_evokeds['LRDA'], picks = ['Cz'], invert_y = True, colors = ['green']) "
   ]
  },
  {
   "cell_type": "code",
   "execution_count": null,
   "metadata": {},
   "outputs": [],
   "source": [
    "mne.viz.plot_compare_evokeds(my_evokeds['GRDA'], picks = ['Cz'], invert_y = True, colors = ['red']) "
   ]
  },
  {
   "cell_type": "code",
   "execution_count": null,
   "metadata": {},
   "outputs": [],
   "source": [
    "mne.viz.plot_compare_evokeds(my_evokeds['Other'], picks = ['Cz'], invert_y = True,  colors = ['purple']) "
   ]
  }
 ],
 "metadata": {
  "kernelspec": {
   "display_name": "base",
   "language": "python",
   "name": "python3"
  },
  "language_info": {
   "codemirror_mode": {
    "name": "ipython",
    "version": 3
   },
   "file_extension": ".py",
   "mimetype": "text/x-python",
   "name": "python",
   "nbconvert_exporter": "python",
   "pygments_lexer": "ipython3",
   "version": "3.7.6"
  }
 },
 "nbformat": 4,
 "nbformat_minor": 2
}
