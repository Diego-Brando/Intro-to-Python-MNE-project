{
 "cells": [
  {
   "cell_type": "markdown",
   "id": "7b4c01e3",
   "metadata": {
    "papermill": {
     "duration": 0.005099,
     "end_time": "2024-05-23T08:43:05.794499",
     "exception": false,
     "start_time": "2024-05-23T08:43:05.789400",
     "status": "completed"
    },
    "tags": []
   },
   "source": [
    "## Import libraries and modules"
   ]
  },
  {
   "cell_type": "code",
   "execution_count": 1,
   "id": "457d9e34",
   "metadata": {
    "execution": {
     "iopub.execute_input": "2024-05-23T08:43:05.805209Z",
     "iopub.status.busy": "2024-05-23T08:43:05.804903Z",
     "iopub.status.idle": "2024-05-23T08:43:12.506252Z",
     "shell.execute_reply": "2024-05-23T08:43:12.505322Z"
    },
    "papermill": {
     "duration": 6.708912,
     "end_time": "2024-05-23T08:43:12.508236",
     "exception": false,
     "start_time": "2024-05-23T08:43:05.799324",
     "status": "completed"
    },
    "tags": []
   },
   "outputs": [
    {
     "name": "stderr",
     "output_type": "stream",
     "text": [
      "/opt/conda/lib/python3.10/site-packages/scipy/__init__.py:146: UserWarning: A NumPy version >=1.16.5 and <1.23.0 is required for this version of SciPy (detected version 1.24.3\n",
      "  warnings.warn(f\"A NumPy version >={np_minversion} and <{np_maxversion}\"\n"
     ]
    },
    {
     "data": {
      "text/plain": [
       "0"
      ]
     },
     "execution_count": 1,
     "metadata": {},
     "output_type": "execute_result"
    }
   ],
   "source": [
    "# Importing essential libraries\n",
    "import gc\n",
    "import os\n",
    "import random\n",
    "import warnings\n",
    "import numpy as np\n",
    "import pandas as pd\n",
    "from IPython.display import display\n",
    "from tqdm.notebook import tqdm\n",
    "\n",
    "# PyTorch for deep learning\n",
    "import timm\n",
    "import torch\n",
    "import mne\n",
    "import torch.nn as nn  \n",
    "import torch.optim as optim\n",
    "import torch.nn.functional as F\n",
    "from torch.optim.lr_scheduler import CosineAnnealingLR\n",
    "\n",
    "# torchvision for image processing and augmentation\n",
    "import torchvision.transforms as transforms\n",
    "\n",
    "# Suppressing minor warnings to keep the output clean\n",
    "warnings.filterwarnings('ignore', category=Warning)\n",
    "\n",
    "# Reclaim memory no longer in use.\n",
    "gc.collect()"
   ]
  },
  {
   "cell_type": "markdown",
   "id": "695a44f3",
   "metadata": {
    "papermill": {
     "duration": 0.004789,
     "end_time": "2024-05-23T08:43:12.518037",
     "exception": false,
     "start_time": "2024-05-23T08:43:12.513248",
     "status": "completed"
    },
    "tags": []
   },
   "source": [
    "## Configuration"
   ]
  },
  {
   "cell_type": "code",
   "execution_count": 2,
   "id": "7f1a7ba1",
   "metadata": {
    "execution": {
     "iopub.execute_input": "2024-05-23T08:43:12.529486Z",
     "iopub.status.busy": "2024-05-23T08:43:12.528727Z",
     "iopub.status.idle": "2024-05-23T08:43:12.668326Z",
     "shell.execute_reply": "2024-05-23T08:43:12.667411Z"
    },
    "papermill": {
     "duration": 0.147469,
     "end_time": "2024-05-23T08:43:12.670269",
     "exception": false,
     "start_time": "2024-05-23T08:43:12.522800",
     "status": "completed"
    },
    "tags": []
   },
   "outputs": [
    {
     "data": {
      "text/plain": [
       "0"
      ]
     },
     "execution_count": 2,
     "metadata": {},
     "output_type": "execute_result"
    }
   ],
   "source": [
    "# Configuration class containing hyperparameters and settings\n",
    "class Config:\n",
    "    seed = 42 \n",
    "    image_transform = transforms.Resize((512,512))  \n",
    "    batch_size = 16\n",
    "    num_epochs = 9\n",
    "    num_folds = 5\n",
    "\n",
    "# Set the seed for reproducibility across multiple libraries\n",
    "def set_seed(seed):\n",
    "    torch.backends.cudnn.deterministic = True\n",
    "    torch.backends.cudnn.benchmark = True\n",
    "    torch.manual_seed(seed)\n",
    "    np.random.seed(seed)\n",
    "    random.seed(seed)\n",
    "    \n",
    "set_seed(Config.seed)\n",
    "\n",
    "# Define the 'Kullback Leibler Divergence' loss function\n",
    "def KL_loss(p,q):\n",
    "    epsilon=10**(-15)\n",
    "    p=torch.clip(p,epsilon,1-epsilon)\n",
    "    q = nn.functional.log_softmax(q,dim=1)\n",
    "    return torch.mean(torch.sum(p*(torch.log(p)-q),dim=1))\n",
    "\n",
    "# Reclaim memory no longer in use.\n",
    "gc.collect()"
   ]
  },
  {
   "cell_type": "markdown",
   "id": "815109a9",
   "metadata": {
    "papermill": {
     "duration": 0.004873,
     "end_time": "2024-05-23T08:43:12.680375",
     "exception": false,
     "start_time": "2024-05-23T08:43:12.675502",
     "status": "completed"
    },
    "tags": []
   },
   "source": [
    "## Data Loading"
   ]
  },
  {
   "cell_type": "code",
   "execution_count": 3,
   "id": "d48df563",
   "metadata": {
    "execution": {
     "iopub.execute_input": "2024-05-23T08:43:12.691354Z",
     "iopub.status.busy": "2024-05-23T08:43:12.691091Z",
     "iopub.status.idle": "2024-05-23T08:43:13.177333Z",
     "shell.execute_reply": "2024-05-23T08:43:13.176370Z"
    },
    "papermill": {
     "duration": 0.493931,
     "end_time": "2024-05-23T08:43:13.179237",
     "exception": false,
     "start_time": "2024-05-23T08:43:12.685306",
     "status": "completed"
    },
    "tags": []
   },
   "outputs": [
    {
     "data": {
      "text/plain": [
       "0"
      ]
     },
     "execution_count": 3,
     "metadata": {},
     "output_type": "execute_result"
    }
   ],
   "source": [
    "# Load training data\n",
    "train_df = pd.read_csv(\"/kaggle/input/hms-preprocessed-dataset/train.csv\")\n",
    "\n",
    "# Define labels for classification\n",
    "labels = ['seizure', 'lpd', 'gpd', 'lrda', 'grda', 'other']\n",
    "\n",
    "# Initialize an empty DataFrame for storing features\n",
    "train_feats = pd.DataFrame()\n",
    "\n",
    "# Aggregate votes for each label and merge into train_feats DataFrame\n",
    "for label in labels:\n",
    "    # Group by 'spectrogram_id' and sum the votes for the current label\n",
    "    group = train_df[f'{label}_vote'].groupby(train_df['eeg_id']).sum()\n",
    "\n",
    "    # Create a DataFrame from the grouped data\n",
    "    label_vote_sum = pd.DataFrame({'eeg_id': group.index, f'{label}_vote_sum': group.values})\n",
    "\n",
    "    # Initialize train_feats with the first label or merge subsequent labels\n",
    "    if label == 'seizure':\n",
    "        train_feats = label_vote_sum\n",
    "    else:\n",
    "        train_feats = train_feats.merge(label_vote_sum, on='eeg_id', how='left')\n",
    "\n",
    "# Add a column to sum all votes\n",
    "train_feats['total_vote'] = 0\n",
    "for label in labels:\n",
    "    train_feats['total_vote'] += train_feats[f'{label}_vote_sum']\n",
    "\n",
    "# Calculate and store the normalized vote for each label\n",
    "for label in labels:\n",
    "    train_feats[f'{label}_vote'] = train_feats[f'{label}_vote_sum'] / train_feats['total_vote']\n",
    "\n",
    "# Select relevant columns for the training features\n",
    "choose_cols = ['eeg_id']\n",
    "for label in labels:\n",
    "    choose_cols += [f'{label}_vote']\n",
    "train_feats = train_feats[choose_cols]\n",
    "\n",
    "# Add a column with the path to the spectrogram files\n",
    "train_feats['path'] = train_feats['eeg_id'].apply(lambda x: \"/kaggle/input/hms-preprocessed-dataset/train_eegs/train_eegs/\" + str(x) + \".parquet\")\n",
    "\n",
    "# Reclaim memory no longer in use.\n",
    "gc.collect()"
   ]
  },
  {
   "cell_type": "markdown",
   "id": "18cf89d2",
   "metadata": {
    "papermill": {
     "duration": 0.004971,
     "end_time": "2024-05-23T08:43:13.189458",
     "exception": false,
     "start_time": "2024-05-23T08:43:13.184487",
     "status": "completed"
    },
    "tags": []
   },
   "source": [
    "## Data Preprocessing"
   ]
  },
  {
   "cell_type": "code",
   "execution_count": 4,
   "id": "b51b48d5",
   "metadata": {
    "execution": {
     "iopub.execute_input": "2024-05-23T08:43:13.200580Z",
     "iopub.status.busy": "2024-05-23T08:43:13.200301Z",
     "iopub.status.idle": "2024-05-23T08:43:13.207882Z",
     "shell.execute_reply": "2024-05-23T08:43:13.207078Z"
    },
    "papermill": {
     "duration": 0.015213,
     "end_time": "2024-05-23T08:43:13.209671",
     "exception": false,
     "start_time": "2024-05-23T08:43:13.194458",
     "status": "completed"
    },
    "tags": []
   },
   "outputs": [],
   "source": [
    "def get_batch(paths, batch_size=Config.batch_size):\n",
    "    # Set a small epsilon to avoid division by zero\n",
    "    eps = 1e-6\n",
    "\n",
    "    # Initialize a list to store batch data\n",
    "    batch_data = []\n",
    "\n",
    "    # Iterate over each path in the provided paths\n",
    "    for path in paths:\n",
    "        # Read data from parquet file\n",
    "        data = pd.read_parquet(path[0])\n",
    "\n",
    "        # Fill missing values, remove time column, and transpose\n",
    "        data = data.fillna(-1).values[:, 1:].T\n",
    "\n",
    "        # Clip values and apply logarithmic transformation\n",
    "        data = np.clip(data, np.exp(-6), np.exp(10))\n",
    "        data = np.log(data)\n",
    "\n",
    "        # Normalize the data\n",
    "        data_mean = data.mean(axis=(0, 1))\n",
    "        data_std = data.std(axis=(0, 1))\n",
    "        data = (data - data_mean) / (data_std + eps)\n",
    "\n",
    "        # Convert data to a PyTorch tensor and apply transformations\n",
    "        data_tensor = torch.unsqueeze(torch.Tensor(data), dim=0)\n",
    "        data = Config.image_transform(data_tensor)\n",
    "\n",
    "        # Append the processed data to the batch_data list\n",
    "        batch_data.append(data)\n",
    "\n",
    "    # Stack all the batch data into a single tensor\n",
    "    batch_data = torch.stack(batch_data)\n",
    "\n",
    "    # Return the batch data\n",
    "    return batch_data"
   ]
  },
  {
   "cell_type": "markdown",
   "id": "95580bc5",
   "metadata": {
    "papermill": {
     "duration": 0.004826,
     "end_time": "2024-05-23T08:43:13.219493",
     "exception": false,
     "start_time": "2024-05-23T08:43:13.214667",
     "status": "completed"
    },
    "tags": []
   },
   "source": [
    "## Model Training"
   ]
  },
  {
   "cell_type": "code",
   "execution_count": 5,
   "id": "ae910315",
   "metadata": {
    "execution": {
     "iopub.execute_input": "2024-05-23T08:43:13.230778Z",
     "iopub.status.busy": "2024-05-23T08:43:13.230527Z",
     "iopub.status.idle": "2024-05-23T14:43:48.534415Z",
     "shell.execute_reply": "2024-05-23T14:43:48.531791Z"
    },
    "papermill": {
     "duration": 21635.32844,
     "end_time": "2024-05-23T14:43:48.552889",
     "exception": false,
     "start_time": "2024-05-23T08:43:13.224449",
     "status": "completed"
    },
    "tags": []
   },
   "outputs": [
    {
     "name": "stdout",
     "output_type": "stream",
     "text": [
      "Using device: cuda\n"
     ]
    },
    {
     "data": {
      "application/vnd.jupyter.widget-view+json": {
       "model_id": "ba9a8aeef4fb4ae4a4668964aa8615e1",
       "version_major": 2,
       "version_minor": 0
      },
      "text/plain": [
       "model.safetensors:   0%|          | 0.00/87.4M [00:00<?, ?B/s]"
      ]
     },
     "metadata": {},
     "output_type": "display_data"
    },
    {
     "name": "stdout",
     "output_type": "stream",
     "text": [
      "Starting training for fold 1\n",
      "Epoch 1: Train Loss = 1.07\n",
      "Epoch 1: Test Loss = 1.13\n",
      "Epoch 2: Train Loss = 0.90\n",
      "Epoch 2: Test Loss = 0.89\n",
      "Epoch 3: Train Loss = 0.81\n",
      "Epoch 3: Test Loss = 0.82\n",
      "Epoch 4: Train Loss = 0.72\n",
      "Epoch 4: Test Loss = 0.79\n",
      "Epoch 5: Train Loss = 0.62\n",
      "Epoch 5: Test Loss = 0.78\n",
      "Epoch 6: Train Loss = 0.49\n",
      "Epoch 6: Test Loss = 0.74\n",
      "Epoch 7: Train Loss = 0.33\n",
      "Epoch 7: Test Loss = 0.81\n",
      "Epoch 8: Train Loss = 0.21\n",
      "Epoch 8: Test Loss = 0.82\n",
      "Epoch 9: Train Loss = 0.15\n",
      "Epoch 9: Test Loss = 0.83\n",
      "Fold 1 Best Test Loss: 0.74\n",
      "Starting training for fold 2\n",
      "Epoch 1: Train Loss = 1.06\n",
      "Epoch 1: Test Loss = 0.92\n",
      "Epoch 2: Train Loss = 0.88\n",
      "Epoch 2: Test Loss = 0.93\n",
      "Epoch 3: Train Loss = 0.78\n",
      "Epoch 3: Test Loss = 0.82\n",
      "Epoch 4: Train Loss = 0.69\n",
      "Epoch 4: Test Loss = 0.77\n",
      "Epoch 5: Train Loss = 0.59\n",
      "Epoch 5: Test Loss = 0.73\n",
      "Epoch 6: Train Loss = 0.45\n",
      "Epoch 6: Test Loss = 0.72\n",
      "Epoch 7: Train Loss = 0.30\n",
      "Epoch 7: Test Loss = 0.78\n",
      "Epoch 8: Train Loss = 0.19\n",
      "Epoch 8: Test Loss = 0.78\n",
      "Epoch 9: Train Loss = 0.14\n",
      "Epoch 9: Test Loss = 0.79\n",
      "Fold 2 Best Test Loss: 0.72\n",
      "Starting training for fold 3\n",
      "Epoch 1: Train Loss = 1.08\n",
      "Epoch 1: Test Loss = 1.02\n",
      "Epoch 2: Train Loss = 0.93\n",
      "Epoch 2: Test Loss = 1.04\n",
      "Epoch 3: Train Loss = 0.83\n",
      "Epoch 3: Test Loss = 0.84\n",
      "Epoch 4: Train Loss = 0.74\n",
      "Epoch 4: Test Loss = 0.80\n",
      "Epoch 5: Train Loss = 0.65\n",
      "Epoch 5: Test Loss = 0.76\n",
      "Epoch 6: Train Loss = 0.53\n",
      "Epoch 6: Test Loss = 0.75\n",
      "Epoch 7: Train Loss = 0.38\n",
      "Epoch 7: Test Loss = 0.76\n",
      "Epoch 8: Train Loss = 0.24\n",
      "Epoch 8: Test Loss = 0.79\n",
      "Epoch 9: Train Loss = 0.17\n",
      "Epoch 9: Test Loss = 0.81\n",
      "Fold 3 Best Test Loss: 0.75\n",
      "Starting training for fold 4\n",
      "Epoch 1: Train Loss = 1.08\n",
      "Epoch 1: Test Loss = 1.05\n",
      "Epoch 2: Train Loss = 0.93\n",
      "Epoch 2: Test Loss = 1.03\n",
      "Epoch 3: Train Loss = 0.82\n",
      "Epoch 3: Test Loss = 0.87\n",
      "Epoch 4: Train Loss = 0.74\n",
      "Epoch 4: Test Loss = 0.87\n",
      "Epoch 5: Train Loss = 0.64\n",
      "Epoch 5: Test Loss = 0.76\n",
      "Epoch 6: Train Loss = 0.53\n",
      "Epoch 6: Test Loss = 0.74\n",
      "Epoch 7: Train Loss = 0.38\n",
      "Epoch 7: Test Loss = 0.75\n",
      "Epoch 8: Train Loss = 0.25\n",
      "Epoch 8: Test Loss = 0.80\n",
      "Epoch 9: Train Loss = 0.18\n",
      "Epoch 9: Test Loss = 0.81\n",
      "Fold 4 Best Test Loss: 0.74\n",
      "Starting training for fold 5\n",
      "Epoch 1: Train Loss = 1.07\n",
      "Epoch 1: Test Loss = 0.97\n",
      "Epoch 2: Train Loss = 0.90\n",
      "Epoch 2: Test Loss = 0.89\n",
      "Epoch 3: Train Loss = 0.80\n",
      "Epoch 3: Test Loss = 0.85\n",
      "Epoch 4: Train Loss = 0.71\n",
      "Epoch 4: Test Loss = 0.77\n",
      "Epoch 5: Train Loss = 0.61\n",
      "Epoch 5: Test Loss = 0.76\n",
      "Epoch 6: Train Loss = 0.48\n",
      "Epoch 6: Test Loss = 0.75\n",
      "Epoch 7: Train Loss = 0.32\n",
      "Epoch 7: Test Loss = 0.79\n",
      "Epoch 8: Train Loss = 0.20\n",
      "Epoch 8: Test Loss = 0.81\n",
      "Epoch 9: Train Loss = 0.15\n",
      "Epoch 9: Test Loss = 0.80\n",
      "Fold 5 Best Test Loss: 0.75\n"
     ]
    }
   ],
   "source": [
    "# Determine device availability\n",
    "device = 'cuda' if torch.cuda.is_available() else 'cpu'\n",
    "print(f\"Using device: {device}\")\n",
    "\n",
    "# Assuming train_feats is defined and contains the training features and labels\n",
    "total_idx = np.arange(len(train_feats))\n",
    "np.random.shuffle(total_idx)\n",
    "\n",
    "gc.collect()\n",
    "\n",
    "# Cross-validation loop\n",
    "for fold in range(Config.num_folds):\n",
    "    # Split data into train and test sets for this fold\n",
    "    test_idx = total_idx[fold * len(total_idx) // Config.num_folds:(fold + 1) * len(total_idx) // Config.num_folds]\n",
    "    train_idx = np.array([idx for idx in total_idx if idx not in test_idx])\n",
    "\n",
    "    # Initialize ResNet34d model with pretrained weights\n",
    "    model = timm.create_model('resnet34d', pretrained=True, num_classes=6, in_chans=1)\n",
    "    model.to(device)\n",
    "\n",
    "    optimizer = optim.AdamW(model.parameters(), lr=0.001, betas=(0.5, 0.999), weight_decay=0.01)\n",
    "    scheduler = CosineAnnealingLR(optimizer, T_max=Config.num_epochs)\n",
    "\n",
    "    best_test_loss = float('inf')\n",
    "    train_losses = []\n",
    "    test_losses = []\n",
    "\n",
    "    print(f\"Starting training for fold {fold + 1}\")\n",
    "\n",
    "    # Training loop\n",
    "    for epoch in range(Config.num_epochs):\n",
    "        model.train()\n",
    "        train_loss = []\n",
    "        random_num = np.arange(len(train_idx))\n",
    "        np.random.shuffle(random_num)\n",
    "        train_idx = train_idx[random_num]\n",
    "\n",
    "        # Iterate over batches in the training set\n",
    "        for idx in range(0, len(train_idx), Config.batch_size):\n",
    "            optimizer.zero_grad()\n",
    "            train_idx1 = train_idx[idx:idx + Config.batch_size]\n",
    "            train_X1_path = train_feats[['path']].iloc[train_idx1].values\n",
    "            train_X1 = get_batch(train_X1_path, batch_size=Config.batch_size)\n",
    "            train_y1 = train_feats[['seizure_vote', 'lpd_vote', 'gpd_vote', 'lrda_vote', 'grda_vote', 'other_vote']].iloc[train_idx1].values\n",
    "            train_y1 = torch.Tensor(train_y1)\n",
    "\n",
    "            train_pred = model(train_X1.to(device))\n",
    "            loss = KL_loss(train_y1.to(device), train_pred)\n",
    "            loss.backward()\n",
    "            optimizer.step()\n",
    "            train_loss.append(loss.item())\n",
    "\n",
    "        epoch_train_loss = np.mean(train_loss)\n",
    "        train_losses.append(epoch_train_loss)\n",
    "        print(f\"Epoch {epoch + 1}: Train Loss = {epoch_train_loss:.2f}\")\n",
    "\n",
    "        scheduler.step()\n",
    "\n",
    "        # Evaluation loop\n",
    "        model.eval()\n",
    "        test_loss = []\n",
    "        with torch.no_grad():\n",
    "            for idx in range(0, len(test_idx), Config.batch_size):\n",
    "                test_idx1 = test_idx[idx:idx + Config.batch_size]\n",
    "                test_X1_path = train_feats[['path']].iloc[test_idx1].values\n",
    "                test_X1 = get_batch(test_X1_path, batch_size=Config.batch_size)\n",
    "                test_y1 = train_feats[['seizure_vote', 'lpd_vote', 'gpd_vote', 'lrda_vote', 'grda_vote', 'other_vote']].iloc[test_idx1].values\n",
    "                test_y1 = torch.Tensor(test_y1)\n",
    "\n",
    "                test_pred = model(test_X1.to(device))\n",
    "                loss = KL_loss(test_y1.to(device), test_pred)\n",
    "                test_loss.append(loss.item())\n",
    "\n",
    "        epoch_test_loss = np.mean(test_loss)\n",
    "        test_losses.append(epoch_test_loss)\n",
    "        print(f\"Epoch {epoch + 1}: Test Loss = {epoch_test_loss:.2f}\")\n",
    "\n",
    "        # Save the model if it has the best test loss so far\n",
    "        if epoch_test_loss < best_test_loss:\n",
    "            best_test_loss = epoch_test_loss\n",
    "            torch.save(model.state_dict(), f\"resnet34d_fold{fold}.pth\")\n",
    "\n",
    "        gc.collect()\n",
    "\n",
    "    print(f\"Fold {fold + 1} Best Test Loss: {best_test_loss:.2f}\")"
   ]
  },
  {
   "cell_type": "code",
   "execution_count": 6,
   "id": "d2fad547",
   "metadata": {
    "execution": {
     "iopub.execute_input": "2024-05-23T14:43:48.581579Z",
     "iopub.status.busy": "2024-05-23T14:43:48.580771Z",
     "iopub.status.idle": "2024-05-23T14:43:48.592115Z",
     "shell.execute_reply": "2024-05-23T14:43:48.591420Z"
    },
    "papermill": {
     "duration": 0.028533,
     "end_time": "2024-05-23T14:43:48.593971",
     "exception": false,
     "start_time": "2024-05-23T14:43:48.565438",
     "status": "completed"
    },
    "tags": []
   },
   "outputs": [],
   "source": [
    "def inference_function(test_loader, model, device):\n",
    "    model.eval()  # set model in evaluation mode\n",
    "    softmax = nn.Softmax(dim=1)\n",
    "    prediction_dict = {}\n",
    "    preds = []\n",
    "    with tqdm(test_loader, unit=\"test_batch\", desc=\"Inference\") as tqdm_test_loader:\n",
    "        for step, batch in enumerate(tqdm_test_loader):\n",
    "            X = batch.pop(\"eeg\").to(device)  # send inputs to `device`\n",
    "            batch_size = X.size(0)\n",
    "            with torch.no_grad():\n",
    "                y_preds = model(X)  # forward propagation pass\n",
    "            y_preds = softmax(y_preds)\n",
    "            preds.append(y_preds.to(\"cpu\").numpy())  # save predictions\n",
    "    prediction_dict[\"predictions\"] = np.concatenate(\n",
    "        preds\n",
    "    )\n",
    "    return prediction_dict"
   ]
  },
  {
   "cell_type": "code",
   "execution_count": 7,
   "id": "d6650f55",
   "metadata": {
    "execution": {
     "iopub.execute_input": "2024-05-23T14:43:48.620311Z",
     "iopub.status.busy": "2024-05-23T14:43:48.620004Z",
     "iopub.status.idle": "2024-05-23T14:43:48.655295Z",
     "shell.execute_reply": "2024-05-23T14:43:48.654457Z"
    },
    "papermill": {
     "duration": 0.050979,
     "end_time": "2024-05-23T14:43:48.657530",
     "exception": false,
     "start_time": "2024-05-23T14:43:48.606551",
     "status": "completed"
    },
    "tags": []
   },
   "outputs": [
    {
     "name": "stdout",
     "output_type": "stream",
     "text": [
      "Test dataframe shape is: (1, 3)\n"
     ]
    },
    {
     "data": {
      "text/html": [
       "<div>\n",
       "<style scoped>\n",
       "    .dataframe tbody tr th:only-of-type {\n",
       "        vertical-align: middle;\n",
       "    }\n",
       "\n",
       "    .dataframe tbody tr th {\n",
       "        vertical-align: top;\n",
       "    }\n",
       "\n",
       "    .dataframe thead th {\n",
       "        text-align: right;\n",
       "    }\n",
       "</style>\n",
       "<table border=\"1\" class=\"dataframe\">\n",
       "  <thead>\n",
       "    <tr style=\"text-align: right;\">\n",
       "      <th></th>\n",
       "      <th>spectrogram_id</th>\n",
       "      <th>eeg_id</th>\n",
       "      <th>patient_id</th>\n",
       "    </tr>\n",
       "  </thead>\n",
       "  <tbody>\n",
       "    <tr>\n",
       "      <th>0</th>\n",
       "      <td>853520</td>\n",
       "      <td>3911565283</td>\n",
       "      <td>6885</td>\n",
       "    </tr>\n",
       "  </tbody>\n",
       "</table>\n",
       "</div>"
      ],
      "text/plain": [
       "   spectrogram_id      eeg_id  patient_id\n",
       "0          853520  3911565283        6885"
      ]
     },
     "execution_count": 7,
     "metadata": {},
     "output_type": "execute_result"
    }
   ],
   "source": [
    "test_df = pd.read_csv('/kaggle/input/hms-harmful-brain-activity-classification/test.csv')\n",
    "print(f\"Test dataframe shape is: {test_df.shape}\")\n",
    "test_df.head()"
   ]
  },
  {
   "cell_type": "code",
   "execution_count": 8,
   "id": "4eb13bc0",
   "metadata": {
    "execution": {
     "iopub.execute_input": "2024-05-23T14:43:48.686732Z",
     "iopub.status.busy": "2024-05-23T14:43:48.686451Z",
     "iopub.status.idle": "2024-05-23T14:43:48.852993Z",
     "shell.execute_reply": "2024-05-23T14:43:48.851969Z"
    },
    "papermill": {
     "duration": 0.182198,
     "end_time": "2024-05-23T14:43:48.855002",
     "exception": false,
     "start_time": "2024-05-23T14:43:48.672804",
     "status": "completed"
    },
    "tags": []
   },
   "outputs": [
    {
     "name": "stdout",
     "output_type": "stream",
     "text": [
      "There are 20 raw eeg features\n",
      "['Fp1', 'F3', 'C3', 'P3', 'F7', 'T3', 'T5', 'O1', 'Fz', 'Cz', 'Pz', 'Fp2', 'F4', 'C4', 'P4', 'F8', 'T4', 'T6', 'O2', 'EKG']\n"
     ]
    }
   ],
   "source": [
    "test_eeg_df = pd.read_parquet('/kaggle/input/hms-harmful-brain-activity-classification/test_eegs/3911565283.parquet')\n",
    "test_eeg_features = test_eeg_df.columns\n",
    "print(f\"There are {len(test_eeg_features)} raw eeg features\")\n",
    "print(list(test_eeg_features))\n",
    "del test_eeg_df\n",
    "_ = gc.collect()\n"
   ]
  },
  {
   "cell_type": "code",
   "execution_count": 10,
   "id": "582b14e7",
   "metadata": {
    "execution": {
     "iopub.execute_input": "2024-05-23T14:43:48.882683Z",
     "iopub.status.busy": "2024-05-23T14:43:48.882368Z",
     "iopub.status.idle": "2024-05-23T14:43:49.516755Z",
     "shell.execute_reply": "2024-05-23T14:43:49.515558Z"
    },
    "papermill": {
     "duration": 0.650044,
     "end_time": "2024-05-23T14:43:49.518464",
     "exception": true,
     "start_time": "2024-05-23T14:43:48.868420",
     "status": "failed"
    },
    "tags": []
   },
   "outputs": [
    {
     "name": "stdout",
     "output_type": "stream",
     "text": [
      "[0.02019469, 0.0284991, 0.00893613, 0.07865793, 0.10083617, 0.762876]\n"
     ]
    }
   ],
   "source": [
    "test_eeg_df = pd.read_parquet('/kaggle/input/hms-harmful-brain-activity-classification/test_eegs/3911565283.parquet')\n",
    "predictions = inference_function(test_loader = test_eeg_df, model = model, device = 'CUDA')\n",
    "print(predictions)"
   ]
  },
  {
   "cell_type": "code",
   "execution_count": 12,
   "id": "d851622a",
   "metadata": {
    "execution": {
     "iopub.status.busy": "2024-05-23T03:10:36.775344Z",
     "iopub.status.idle": "2024-05-23T03:10:36.776421Z",
     "shell.execute_reply": "2024-05-23T03:10:36.776168Z",
     "shell.execute_reply.started": "2024-05-23T03:10:36.776144Z"
    },
    "papermill": {
     "duration": null,
     "end_time": null,
     "exception": null,
     "start_time": null,
     "status": "pending"
    },
    "tags": []
   },
   "outputs": [
    {
     "name": "stdout",
     "output_type": "stream",
     "text": [
      "Submissionn shape: (1, 7)\n"
     ]
    },
    {
     "data": {
      "text/html": [
       "<div>\n",
       "<style scoped>\n",
       "    .dataframe tbody tr th:only-of-type {\n",
       "        vertical-align: middle;\n",
       "    }\n",
       "\n",
       "    .dataframe tbody tr th {\n",
       "        vertical-align: top;\n",
       "    }\n",
       "\n",
       "    .dataframe thead th {\n",
       "        text-align: right;\n",
       "    }\n",
       "</style>\n",
       "<table border=\"1\" class=\"dataframe\">\n",
       "  <thead>\n",
       "    <tr style=\"text-align: right;\">\n",
       "      <th></th>\n",
       "      <th>eeg_id</th>\n",
       "      <th>seizure_vote</th>\n",
       "      <th>lpd_vote</th>\n",
       "      <th>gpd_vote</th>\n",
       "      <th>lrda_vote</th>\n",
       "      <th>grda_vote</th>\n",
       "      <th>other_vote</th>\n",
       "    </tr>\n",
       "  </thead>\n",
       "  <tbody>\n",
       "    <tr>\n",
       "      <th>0</th>\n",
       "      <td>3911565283</td>\n",
       "      <td>0.020195</td>\n",
       "      <td>0.028499</td>\n",
       "      <td>0.008936</td>\n",
       "      <td>0.078658</td>\n",
       "      <td>0.100836</td>\n",
       "      <td>0.762876</td>\n",
       "    </tr>\n",
       "  </tbody>\n",
       "</table>\n",
       "</div>"
      ],
      "text/plain": [
       "       eeg_id  seizure_vote  lpd_vote  gpd_vote  lrda_vote  grda_vote  \\\n",
       "0  3911565283      0.020195  0.028499  0.008936   0.078658   0.100836   \n",
       "\n",
       "   other_vote  \n",
       "0    0.762876  "
      ]
     },
     "execution_count": 12,
     "metadata": {},
     "output_type": "execute_result"
    }
   ],
   "source": [
    "import pandas as pd\n",
    "TARGETS = ['seizure_vote', 'lpd_vote', 'gpd_vote', 'lrda_vote', 'grda_vote', 'other_vote']\n",
    "sub = pd.DataFrame({'eeg_id':[3911565283]})\n",
    "for i in range(len(TARGETS)):\n",
    "    sub[TARGETS[i]] = predictions[i]\n",
    "sub.to_csv('submission.csv',index=False)\n",
    "print(f'Submissionn shape: {sub.shape}')\n",
    "sub.head()"
   ]
  },
  {
   "cell_type": "code",
   "execution_count": null,
   "id": "421e08b9",
   "metadata": {
    "execution": {
     "iopub.status.busy": "2024-05-23T03:10:36.777527Z",
     "iopub.status.idle": "2024-05-23T03:10:36.777963Z",
     "shell.execute_reply": "2024-05-23T03:10:36.777757Z",
     "shell.execute_reply.started": "2024-05-23T03:10:36.777737Z"
    },
    "papermill": {
     "duration": null,
     "end_time": null,
     "exception": null,
     "start_time": null,
     "status": "pending"
    },
    "tags": []
   },
   "outputs": [],
   "source": [
    "sub.to_csv('/kaggle/working/sub.csv', sep = ',')"
   ]
  }
 ],
 "metadata": {
  "kaggle": {
   "accelerator": "gpu",
   "dataSources": [
    {
     "databundleVersionId": 7469972,
     "sourceId": 59093,
     "sourceType": "competition"
    },
    {
     "datasetId": 4348122,
     "sourceId": 7469441,
     "sourceType": "datasetVersion"
    }
   ],
   "dockerImageVersionId": 30636,
   "isGpuEnabled": true,
   "isInternetEnabled": true,
   "language": "python",
   "sourceType": "notebook"
  },
  "kernelspec": {
   "display_name": "Python 3",
   "language": "python",
   "name": "python3"
  },
  "language_info": {
   "codemirror_mode": {
    "name": "ipython",
    "version": 3
   },
   "file_extension": ".py",
   "mimetype": "text/x-python",
   "name": "python",
   "nbconvert_exporter": "python",
   "pygments_lexer": "ipython3",
   "version": "3.7.6"
  },
  "papermill": {
   "default_parameters": {},
   "duration": 21650.204949,
   "end_time": "2024-05-23T14:43:52.580261",
   "environment_variables": {},
   "exception": true,
   "input_path": "__notebook__.ipynb",
   "output_path": "__notebook__.ipynb",
   "parameters": {},
   "start_time": "2024-05-23T08:43:02.375312",
   "version": "2.4.0"
  },
  "widgets": {
   "application/vnd.jupyter.widget-state+json": {
    "state": {
     "134b4e90dc9e487c91b860ee9bfe1c37": {
      "model_module": "@jupyter-widgets/base",
      "model_module_version": "1.2.0",
      "model_name": "LayoutModel",
      "state": {
       "_model_module": "@jupyter-widgets/base",
       "_model_module_version": "1.2.0",
       "_model_name": "LayoutModel",
       "_view_count": null,
       "_view_module": "@jupyter-widgets/base",
       "_view_module_version": "1.2.0",
       "_view_name": "LayoutView",
       "align_content": null,
       "align_items": null,
       "align_self": null,
       "border": null,
       "bottom": null,
       "display": null,
       "flex": null,
       "flex_flow": null,
       "grid_area": null,
       "grid_auto_columns": null,
       "grid_auto_flow": null,
       "grid_auto_rows": null,
       "grid_column": null,
       "grid_gap": null,
       "grid_row": null,
       "grid_template_areas": null,
       "grid_template_columns": null,
       "grid_template_rows": null,
       "height": null,
       "justify_content": null,
       "justify_items": null,
       "left": null,
       "margin": null,
       "max_height": null,
       "max_width": null,
       "min_height": null,
       "min_width": null,
       "object_fit": null,
       "object_position": null,
       "order": null,
       "overflow": null,
       "overflow_x": null,
       "overflow_y": null,
       "padding": null,
       "right": null,
       "top": null,
       "visibility": null,
       "width": null
      }
     },
     "1cf6a6e41dd94a03a342aa2b482ea378": {
      "model_module": "@jupyter-widgets/controls",
      "model_module_version": "1.5.0",
      "model_name": "HTMLModel",
      "state": {
       "_dom_classes": [],
       "_model_module": "@jupyter-widgets/controls",
       "_model_module_version": "1.5.0",
       "_model_name": "HTMLModel",
       "_view_count": null,
       "_view_module": "@jupyter-widgets/controls",
       "_view_module_version": "1.5.0",
       "_view_name": "HTMLView",
       "description": "",
       "description_tooltip": null,
       "layout": "IPY_MODEL_ff4581834b884337a516885c095fa1a4",
       "placeholder": "​",
       "style": "IPY_MODEL_5910722ec98646b4bb1fe3c295da1a38",
       "value": "model.safetensors: 100%"
      }
     },
     "5910722ec98646b4bb1fe3c295da1a38": {
      "model_module": "@jupyter-widgets/controls",
      "model_module_version": "1.5.0",
      "model_name": "DescriptionStyleModel",
      "state": {
       "_model_module": "@jupyter-widgets/controls",
       "_model_module_version": "1.5.0",
       "_model_name": "DescriptionStyleModel",
       "_view_count": null,
       "_view_module": "@jupyter-widgets/base",
       "_view_module_version": "1.2.0",
       "_view_name": "StyleView",
       "description_width": ""
      }
     },
     "6a33b7786a834612b508a0ed6e399b35": {
      "model_module": "@jupyter-widgets/base",
      "model_module_version": "1.2.0",
      "model_name": "LayoutModel",
      "state": {
       "_model_module": "@jupyter-widgets/base",
       "_model_module_version": "1.2.0",
       "_model_name": "LayoutModel",
       "_view_count": null,
       "_view_module": "@jupyter-widgets/base",
       "_view_module_version": "1.2.0",
       "_view_name": "LayoutView",
       "align_content": null,
       "align_items": null,
       "align_self": null,
       "border": null,
       "bottom": null,
       "display": null,
       "flex": null,
       "flex_flow": null,
       "grid_area": null,
       "grid_auto_columns": null,
       "grid_auto_flow": null,
       "grid_auto_rows": null,
       "grid_column": null,
       "grid_gap": null,
       "grid_row": null,
       "grid_template_areas": null,
       "grid_template_columns": null,
       "grid_template_rows": null,
       "height": null,
       "justify_content": null,
       "justify_items": null,
       "left": null,
       "margin": null,
       "max_height": null,
       "max_width": null,
       "min_height": null,
       "min_width": null,
       "object_fit": null,
       "object_position": null,
       "order": null,
       "overflow": null,
       "overflow_x": null,
       "overflow_y": null,
       "padding": null,
       "right": null,
       "top": null,
       "visibility": null,
       "width": null
      }
     },
     "79a406a56a3342f088a288591d1655a7": {
      "model_module": "@jupyter-widgets/controls",
      "model_module_version": "1.5.0",
      "model_name": "ProgressStyleModel",
      "state": {
       "_model_module": "@jupyter-widgets/controls",
       "_model_module_version": "1.5.0",
       "_model_name": "ProgressStyleModel",
       "_view_count": null,
       "_view_module": "@jupyter-widgets/base",
       "_view_module_version": "1.2.0",
       "_view_name": "StyleView",
       "bar_color": null,
       "description_width": ""
      }
     },
     "933ace415b82442faf9d639e440dbf36": {
      "model_module": "@jupyter-widgets/controls",
      "model_module_version": "1.5.0",
      "model_name": "DescriptionStyleModel",
      "state": {
       "_model_module": "@jupyter-widgets/controls",
       "_model_module_version": "1.5.0",
       "_model_name": "DescriptionStyleModel",
       "_view_count": null,
       "_view_module": "@jupyter-widgets/base",
       "_view_module_version": "1.2.0",
       "_view_name": "StyleView",
       "description_width": ""
      }
     },
     "a9111d242ac6418db52c0a001a5d636b": {
      "model_module": "@jupyter-widgets/controls",
      "model_module_version": "1.5.0",
      "model_name": "HTMLModel",
      "state": {
       "_dom_classes": [],
       "_model_module": "@jupyter-widgets/controls",
       "_model_module_version": "1.5.0",
       "_model_name": "HTMLModel",
       "_view_count": null,
       "_view_module": "@jupyter-widgets/controls",
       "_view_module_version": "1.5.0",
       "_view_name": "HTMLView",
       "description": "",
       "description_tooltip": null,
       "layout": "IPY_MODEL_b068e9ee97fc4c34b4a849d0d0a84603",
       "placeholder": "​",
       "style": "IPY_MODEL_933ace415b82442faf9d639e440dbf36",
       "value": " 87.4M/87.4M [00:05&lt;00:00, 18.1MB/s]"
      }
     },
     "b068e9ee97fc4c34b4a849d0d0a84603": {
      "model_module": "@jupyter-widgets/base",
      "model_module_version": "1.2.0",
      "model_name": "LayoutModel",
      "state": {
       "_model_module": "@jupyter-widgets/base",
       "_model_module_version": "1.2.0",
       "_model_name": "LayoutModel",
       "_view_count": null,
       "_view_module": "@jupyter-widgets/base",
       "_view_module_version": "1.2.0",
       "_view_name": "LayoutView",
       "align_content": null,
       "align_items": null,
       "align_self": null,
       "border": null,
       "bottom": null,
       "display": null,
       "flex": null,
       "flex_flow": null,
       "grid_area": null,
       "grid_auto_columns": null,
       "grid_auto_flow": null,
       "grid_auto_rows": null,
       "grid_column": null,
       "grid_gap": null,
       "grid_row": null,
       "grid_template_areas": null,
       "grid_template_columns": null,
       "grid_template_rows": null,
       "height": null,
       "justify_content": null,
       "justify_items": null,
       "left": null,
       "margin": null,
       "max_height": null,
       "max_width": null,
       "min_height": null,
       "min_width": null,
       "object_fit": null,
       "object_position": null,
       "order": null,
       "overflow": null,
       "overflow_x": null,
       "overflow_y": null,
       "padding": null,
       "right": null,
       "top": null,
       "visibility": null,
       "width": null
      }
     },
     "b79ebf1a99f344f0aa983e84c5ec6145": {
      "model_module": "@jupyter-widgets/controls",
      "model_module_version": "1.5.0",
      "model_name": "FloatProgressModel",
      "state": {
       "_dom_classes": [],
       "_model_module": "@jupyter-widgets/controls",
       "_model_module_version": "1.5.0",
       "_model_name": "FloatProgressModel",
       "_view_count": null,
       "_view_module": "@jupyter-widgets/controls",
       "_view_module_version": "1.5.0",
       "_view_name": "ProgressView",
       "bar_style": "success",
       "description": "",
       "description_tooltip": null,
       "layout": "IPY_MODEL_6a33b7786a834612b508a0ed6e399b35",
       "max": 87356926,
       "min": 0,
       "orientation": "horizontal",
       "style": "IPY_MODEL_79a406a56a3342f088a288591d1655a7",
       "value": 87356926
      }
     },
     "ba9a8aeef4fb4ae4a4668964aa8615e1": {
      "model_module": "@jupyter-widgets/controls",
      "model_module_version": "1.5.0",
      "model_name": "HBoxModel",
      "state": {
       "_dom_classes": [],
       "_model_module": "@jupyter-widgets/controls",
       "_model_module_version": "1.5.0",
       "_model_name": "HBoxModel",
       "_view_count": null,
       "_view_module": "@jupyter-widgets/controls",
       "_view_module_version": "1.5.0",
       "_view_name": "HBoxView",
       "box_style": "",
       "children": [
        "IPY_MODEL_1cf6a6e41dd94a03a342aa2b482ea378",
        "IPY_MODEL_b79ebf1a99f344f0aa983e84c5ec6145",
        "IPY_MODEL_a9111d242ac6418db52c0a001a5d636b"
       ],
       "layout": "IPY_MODEL_134b4e90dc9e487c91b860ee9bfe1c37"
      }
     },
     "ff4581834b884337a516885c095fa1a4": {
      "model_module": "@jupyter-widgets/base",
      "model_module_version": "1.2.0",
      "model_name": "LayoutModel",
      "state": {
       "_model_module": "@jupyter-widgets/base",
       "_model_module_version": "1.2.0",
       "_model_name": "LayoutModel",
       "_view_count": null,
       "_view_module": "@jupyter-widgets/base",
       "_view_module_version": "1.2.0",
       "_view_name": "LayoutView",
       "align_content": null,
       "align_items": null,
       "align_self": null,
       "border": null,
       "bottom": null,
       "display": null,
       "flex": null,
       "flex_flow": null,
       "grid_area": null,
       "grid_auto_columns": null,
       "grid_auto_flow": null,
       "grid_auto_rows": null,
       "grid_column": null,
       "grid_gap": null,
       "grid_row": null,
       "grid_template_areas": null,
       "grid_template_columns": null,
       "grid_template_rows": null,
       "height": null,
       "justify_content": null,
       "justify_items": null,
       "left": null,
       "margin": null,
       "max_height": null,
       "max_width": null,
       "min_height": null,
       "min_width": null,
       "object_fit": null,
       "object_position": null,
       "order": null,
       "overflow": null,
       "overflow_x": null,
       "overflow_y": null,
       "padding": null,
       "right": null,
       "top": null,
       "visibility": null,
       "width": null
      }
     }
    },
    "version_major": 2,
    "version_minor": 0
   }
  }
 },
 "nbformat": 4,
 "nbformat_minor": 5
}
